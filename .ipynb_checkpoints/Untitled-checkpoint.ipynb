{
 "cells": [
  {
   "cell_type": "code",
   "execution_count": 17,
   "metadata": {},
   "outputs": [
    {
     "name": "stdout",
     "output_type": "stream",
     "text": [
      "['AGROCHAL', 'BBVACOL', 'BCOLOMBIA', 'BIOMAX', 'BMC', 'BOGOTA', 'BVC', 'CARACOLTV', 'CARTON', 'CELSIA', 'CEMARGOS', 'CLH', 'CNEC', 'COLOMBINA', 'COLTEJER', 'CONCIVILES', 'CONCONCRET', 'COOMEVAEPS', 'CORFERIAS', 'CORFICOLCF', 'DESCAUCANO', 'ECOPETROL', 'EEB', 'ELCONDOR', 'ELECTULUA', 'EMPAQUES', 'ENKA', 'EPSA', 'ESTRA', 'ETB', 'EXITO', 'FABRICATO', 'FAMILIA', 'FGNTOLIMA', 'GASNATURAL', 'GASORIENTE', 'GRUPOARGOS', 'GRUPOAVAL', 'GRUPOSURA', 'HCOLSEL', 'ICOLCAP', 'INCASTILLA', 'INESA', 'INVENSA', 'ISA', 'MARLY', 'MAYAGUEZ', 'MINEROS', 'NUTRESA', 'OCCIDENTE', 'ODINSA', 'ORBIS', 'PAZRIO', 'PFAVAL', 'PFAVH', 'PFBBVACOL', 'PFBCOLOM', 'PFCARPAK', 'PFCEMARGOS', 'PFCORFICOL', 'PFDAVVNDA', 'PFGRUPOARG', 'PFGRUPSURA', 'PFVILLA051', 'PFVILLA053', 'PFVILLAS', 'PFVILLAS00', 'PFVILLAS01', 'PFVILLASCA', 'POPULAR', 'PROMIGAS', 'PROTECCION', 'RCNTELEVI', 'RIOPAILA', 'RIOPAILIND', 'SANFELIPE', 'TERPEL', 'TGLSC', 'VALINDUSTR', 'VALOREM', 'VALSIMESA', 'VILLAS']\n",
      "{'source': 81, 'name': 'VILLAS'}\n",
      "[{'source': 0, 'target': 'AGROCHAL'}, {'source': 1, 'target': 'BBVACOL'}, {'source': 2, 'target': 'BCOLOMBIA'}, {'source': 3, 'target': 'BIOMAX'}, {'source': 4, 'target': 'BMC'}, {'source': 5, 'target': 'BOGOTA'}, {'source': 6, 'target': 'BVC'}, {'source': 7, 'target': 'CARACOLTV'}, {'source': 8, 'target': 'CARTON'}, {'source': 9, 'target': 'CELSIA'}, {'source': 10, 'target': 'CEMARGOS'}, {'source': 11, 'target': 'CLH'}, {'source': 12, 'target': 'CNEC'}, {'source': 13, 'target': 'COLOMBINA'}, {'source': 14, 'target': 'COLTEJER'}, {'source': 15, 'target': 'CONCIVILES'}, {'source': 16, 'target': 'CONCONCRET'}, {'source': 17, 'target': 'COOMEVAEPS'}, {'source': 18, 'target': 'CORFERIAS'}, {'source': 19, 'target': 'CORFICOLCF'}, {'source': 20, 'target': 'DESCAUCANO'}, {'source': 21, 'target': 'ECOPETROL'}, {'source': 22, 'target': 'EEB'}, {'source': 23, 'target': 'ELCONDOR'}, {'source': 24, 'target': 'ELECTULUA'}, {'source': 25, 'target': 'EMPAQUES'}, {'source': 26, 'target': 'ENKA'}, {'source': 27, 'target': 'EPSA'}, {'source': 28, 'target': 'ESTRA'}, {'source': 29, 'target': 'ETB'}, {'source': 30, 'target': 'EXITO'}, {'source': 31, 'target': 'FABRICATO'}, {'source': 32, 'target': 'FAMILIA'}, {'source': 33, 'target': 'FGNTOLIMA'}, {'source': 34, 'target': 'GASNATURAL'}, {'source': 35, 'target': 'GASORIENTE'}, {'source': 36, 'target': 'GRUPOARGOS'}, {'source': 37, 'target': 'GRUPOAVAL'}, {'source': 38, 'target': 'GRUPOSURA'}, {'source': 39, 'target': 'HCOLSEL'}, {'source': 40, 'target': 'ICOLCAP'}, {'source': 41, 'target': 'INCASTILLA'}, {'source': 42, 'target': 'INESA'}, {'source': 43, 'target': 'INVENSA'}, {'source': 44, 'target': 'ISA'}, {'source': 45, 'target': 'MARLY'}, {'source': 46, 'target': 'MAYAGUEZ'}, {'source': 47, 'target': 'MINEROS'}, {'source': 48, 'target': 'NUTRESA'}, {'source': 49, 'target': 'OCCIDENTE'}, {'source': 50, 'target': 'ODINSA'}, {'source': 51, 'target': 'ORBIS'}, {'source': 52, 'target': 'PAZRIO'}, {'source': 53, 'target': 'PFAVAL'}, {'source': 54, 'target': 'PFAVH'}, {'source': 55, 'target': 'PFBBVACOL'}, {'source': 56, 'target': 'PFBCOLOM'}, {'source': 57, 'target': 'PFCARPAK'}, {'source': 58, 'target': 'PFCEMARGOS'}, {'source': 59, 'target': 'PFCORFICOL'}, {'source': 60, 'target': 'PFDAVVNDA'}, {'source': 61, 'target': 'PFGRUPOARG'}, {'source': 62, 'target': 'PFGRUPSURA'}, {'source': 63, 'target': 'PFVILLA051'}, {'source': 64, 'target': 'PFVILLA053'}, {'source': 65, 'target': 'PFVILLAS'}, {'source': 66, 'target': 'PFVILLAS00'}, {'source': 67, 'target': 'PFVILLAS01'}, {'source': 68, 'target': 'PFVILLASCA'}, {'source': 69, 'target': 'POPULAR'}, {'source': 70, 'target': 'PROMIGAS'}, {'source': 71, 'target': 'PROTECCION'}, {'source': 72, 'target': 'RCNTELEVI'}, {'source': 73, 'target': 'RIOPAILA'}, {'source': 74, 'target': 'RIOPAILIND'}, {'source': 75, 'target': 'SANFELIPE'}, {'source': 76, 'target': 'TERPEL'}, {'source': 77, 'target': 'TGLSC'}, {'source': 78, 'target': 'VALINDUSTR'}, {'source': 79, 'target': 'VALOREM'}, {'source': 80, 'target': 'VALSIMESA'}, {'source': 81, 'target': 'VILLAS'}]\n"
     ]
    }
   ],
   "source": [
    "import csv\n",
    "\n",
    "empresas = []\n",
    "links=[]\n",
    "\n",
    "with open('temp.csv', 'rb') as csvfile:\n",
    "     spamreader = csv.reader(csvfile, delimiter=' ', quotechar='|')\n",
    "     for row in spamreader:\n",
    "         empresas = row[0].split(\",\")\n",
    "print empresas\n",
    "i=0\n",
    "for e in empresas:\n",
    "    j=i\n",
    "    for j in range(i, 81)\n",
    "        link = {\"source\":i, \"target\":j}\n",
    "        links.append(link)\n",
    "        j+=1\n",
    "    i+=1\n",
    "print links"
   ]
  },
  {
   "cell_type": "code",
   "execution_count": null,
   "metadata": {
    "collapsed": true
   },
   "outputs": [],
   "source": []
  },
  {
   "cell_type": "code",
   "execution_count": null,
   "metadata": {
    "collapsed": true
   },
   "outputs": [],
   "source": []
  }
 ],
 "metadata": {
  "kernelspec": {
   "display_name": "Python 2",
   "language": "python",
   "name": "python2"
  },
  "language_info": {
   "codemirror_mode": {
    "name": "ipython",
    "version": 2
   },
   "file_extension": ".py",
   "mimetype": "text/x-python",
   "name": "python",
   "nbconvert_exporter": "python",
   "pygments_lexer": "ipython2",
   "version": "2.7.13"
  }
 },
 "nbformat": 4,
 "nbformat_minor": 2
}
